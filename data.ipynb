{
 "cells": [
  {
   "cell_type": "code",
   "execution_count": 4,
   "metadata": {},
   "outputs": [],
   "source": [
    "#Set the API key and the URL for the Alpha Vantage API\n",
    "import requests\n",
    "import csv\n",
    "alphavantage_url = 'https://www.alphavantage.co/query?'\n",
    "token_alphavantage = 'your token here'\n"
   ]
  },
  {
   "cell_type": "code",
   "execution_count": null,
   "metadata": {},
   "outputs": [],
   "source": [
    "#Get the data from the API and write it to a file for visualization\n",
    "f = open('data.csv', 'w')\n",
    "\n",
    "response = requests.get(alphavantage_url + 'function=TIME_SERIES_MONTHLY_ADJUSTED&outputsize=compact&symbol=MSFT&apikey=' + token_alphavantage)\n",
    "f.write(response.text)\n",
    "\n",
    "f.close()"
   ]
  }
 ],
 "metadata": {
  "kernelspec": {
   "display_name": "KARS-Finance",
   "language": "python",
   "name": "python3"
  },
  "language_info": {
   "codemirror_mode": {
    "name": "ipython",
    "version": 3
   },
   "file_extension": ".py",
   "mimetype": "text/x-python",
   "name": "python",
   "nbconvert_exporter": "python",
   "pygments_lexer": "ipython3",
   "version": "3.11.0"
  }
 },
 "nbformat": 4,
 "nbformat_minor": 2
}
