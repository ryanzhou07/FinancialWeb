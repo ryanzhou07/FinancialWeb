{
 "cells": [
  {
   "cell_type": "code",
   "execution_count": null,
   "metadata": {},
   "outputs": [],
   "source": [
    "#Set the API key and the URL for the Alpha Vantage API\n",
    "import requests\n",
    "import csv\n",
    "import json\n",
    "import yfinance as yf\n",
    "import pandas as pd\n",
    "\n",
    "#Get the data from the API and write it to a file for visualization\n",
    "\n",
    "tickers = ['AAPL', 'GOOGL', 'AMZN','TSLA', 'NVDA', 'PYPL', 'ADBE', 'NFLX']\n",
    "all_data = []\n",
    "\n",
    "for ticker in tickers:\n",
    "    data = yf.download(ticker, period = '1y', interval = '1mo',multi_level_index = False)\n",
    "    data['Ticker'] = ticker\n",
    "    all_data.append(data)\n",
    "combined_data = pd.concat(all_data)\n",
    "combined_data = combined_data[['Ticker', 'Open', 'High', 'Low', 'Close', 'Volume']]\n",
    "combined_data.to_csv('stock_data.csv')\n",
    "combined_data = combined_data.loc[combined_data['Ticker'] == 'AAPL']"
   ]
  }
 ],
 "metadata": {
  "kernelspec": {
   "display_name": "KARS-Finance",
   "language": "python",
   "name": "python3"
  },
  "language_info": {
   "name": "python",
   "version": "3.11.0"
  }
 },
 "nbformat": 4,
 "nbformat_minor": 2
}
