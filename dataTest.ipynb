{
 "cells": [
  {
   "cell_type": "code",
   "execution_count": null,
   "metadata": {},
   "outputs": [
    {
     "name": "stdout",
     "output_type": "stream",
     "text": [
      "[*********************100%***********************]  1 of 1 completed\n",
      "<class 'pandas.core.indexes.datetimes.DatetimeIndex'>\n"
     ]
    },
    {
     "name": "stderr",
     "output_type": "stream",
     "text": [
      "/Users/ryanzhou/Documents/KARS-Finance/venv/lib/python3.11/site-packages/yfinance/base.py:243: FutureWarning: A value is trying to be set on a copy of a DataFrame or Series through chained assignment using an inplace method.\n",
      "The behavior will change in pandas 3.0. This inplace method will never work because the intermediate object on which we are setting values always behaves as a copy.\n",
      "\n",
      "For example, when doing 'df[col].method(value, inplace=True)', try using 'df.method({col: value}, inplace=True)' or df[col] = df[col].method(value) instead, to perform the operation inplace on the original object.\n",
      "\n",
      "\n",
      "  df[\"Dividends\"].fillna(0, inplace=True)\n",
      "/Users/ryanzhou/Documents/KARS-Finance/venv/lib/python3.11/site-packages/yfinance/base.py:244: FutureWarning: A value is trying to be set on a copy of a DataFrame or Series through chained assignment using an inplace method.\n",
      "The behavior will change in pandas 3.0. This inplace method will never work because the intermediate object on which we are setting values always behaves as a copy.\n",
      "\n",
      "For example, when doing 'df[col].method(value, inplace=True)', try using 'df.method({col: value}, inplace=True)' or df[col] = df[col].method(value) instead, to perform the operation inplace on the original object.\n",
      "\n",
      "\n",
      "  df[\"Stock Splits\"].fillna(0, inplace=True)\n"
     ]
    }
   ],
   "source": [
    "\n",
    "import yfinance as yf\n",
    "import pandas as pd\n",
    "import requests\n",
    "import csv\n",
    "import json\n",
    "#Get the data from the API and write it to a file for visualization\n",
    "\n",
    "tickers = ['AAPL', 'GOOGL', 'AMZN' , 'TSLA' , 'NVDA', 'PYPL', 'ADBE', 'NFLX']\n",
    "all_data = []\n",
    "\n",
    "\n",
    "data = yf.download('AAPL', period = '5y', interval = '1mo',group_by='ticker')\n",
    "print(type(data.index))\n",
    "data = data.reset_index()\n",
    "data['Date']= data['Date'].astype(str)\n",
    "data.dropna(inplace = True)\n",
    "data = data.to_dict(orient = \"records\")\n",
    "with open('/static/data.json', 'w') as f:\n",
    "    json.dump(data, f, indent=4)\n",
    "    f.close()\n"
   ]
  },
  {
   "cell_type": "code",
   "execution_count": null,
   "metadata": {},
   "outputs": [],
   "source": []
  }
 ],
 "metadata": {
  "kernelspec": {
   "display_name": "venv",
   "language": "python",
   "name": "python3"
  },
  "language_info": {
   "codemirror_mode": {
    "name": "ipython",
    "version": 3
   },
   "file_extension": ".py",
   "mimetype": "text/x-python",
   "name": "python",
   "nbconvert_exporter": "python",
   "pygments_lexer": "ipython3",
   "version": "3.11.0"
  }
 },
 "nbformat": 4,
 "nbformat_minor": 2
}
